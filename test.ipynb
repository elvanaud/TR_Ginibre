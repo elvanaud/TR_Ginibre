{
 "cells": [
  {
   "cell_type": "code",
   "execution_count": null,
   "metadata": {},
   "outputs": [],
   "source": [
    "import numpy as np\n",
    "import numpy.random as rd\n",
    "import matplotlib.pyplot as plt\n",
    "from scipy.integrate import solve_ivp\n",
    "import scipy\n"
   ]
  },
  {
   "cell_type": "code",
   "execution_count": null,
   "metadata": {},
   "outputs": [],
   "source": [
    "print(\"Vizualization of Ginibre eigenvalues and Saturn effect\")\n",
    "gen = rd.default_rng()\n",
    "N = 2000\n",
    "mu = 0.0\n",
    "sigma = 1.0/np.sqrt(1*N)\n",
    "\n",
    "def obtainGinibreEig(N,mu,sigma):\n",
    "    mat = gen.normal(mu,sigma, (N,N)) #+gen.normal(mu,sigma,(N,N))*complex(0,1)\n",
    "    #print(mat)\n",
    "\n",
    "    eigenvalues, _= np.linalg.eig(mat)\n",
    "    #print(eigenvalues)\n",
    "\n",
    "\n",
    "    #plt.xlim(-1.0,1.0)\n",
    "    #plt.ylim(-1.0,1.0)\n",
    "    return eigenvalues\n",
    "\n",
    "eigenvalues = []\n",
    "eigenvalues.append(obtainGinibreEig(N,mu,sigma))\n",
    "    \n",
    "#print(eigenvalues)\n",
    "values = np.append([], eigenvalues)\n",
    "'''print(values)\n",
    "print(values.real)\n",
    "print(values.imag)\n",
    "'''\n",
    "plt.gca().set_aspect('equal')\n",
    "plt.scatter(values.real, values.imag, s = 1,c=\"red\")\n",
    "plt.title(\"Eigenvalues of Ginibre matrix\")\n",
    "plt.show()"
   ]
  },
  {
   "cell_type": "code",
   "execution_count": null,
   "metadata": {},
   "outputs": [],
   "source": [
    "plt.hist(values.imag, 100);"
   ]
  },
  {
   "cell_type": "code",
   "execution_count": null,
   "metadata": {},
   "outputs": [],
   "source": [
    "print(\"Vizualization of Ginibre eigenvalues and Saturn effect\")\n",
    "gen = rd.default_rng()\n",
    "N = 64\n",
    "mu = 0.0\n",
    "sigma = 1.0/np.sqrt(1*N)\n",
    "\n",
    "def obtainGinibreEig(N,mu,sigma):\n",
    "    mat = gen.normal(mu,sigma, (N,N)) #+gen.normal(mu,sigma,(N,N))*complex(0,1)\n",
    "    #print(mat)\n",
    "\n",
    "    eigenvalues, _= np.linalg.eig(mat)\n",
    "    #print(eigenvalues)\n",
    "\n",
    "\n",
    "    #plt.xlim(-1.2,1.2)\n",
    "    #plt.ylim(-1.2,1.2)\n",
    "    return eigenvalues\n",
    "\n",
    "eigenvalues = []\n",
    "for _ in range(10000):\n",
    "    M = obtainGinibreEig(N,mu,sigma)\n",
    "    eigenvalues.append(M)\n",
    "    \n",
    "#print(eigenvalues)\n",
    "values = np.append([], eigenvalues)\n",
    "'''print(values)\n",
    "print(values.real)\n",
    "print(values.imag)\n",
    "'''\n",
    "plt.gca().set_aspect('equal')\n",
    "plt.scatter(values.real, values.imag, s = 0.01,c=\"red\")\n",
    "plt.title(\"Eigenvalues of Ginibre matrix\")\n",
    "plt.show()"
   ]
  },
  {
   "cell_type": "code",
   "execution_count": null,
   "metadata": {},
   "outputs": [],
   "source": [
    "\"\"\"values2 = []\n",
    "for vp in values.imag:\n",
    "    if vp > 0:\n",
    "        values2.append(vp)\n",
    "print(values2)\"\"\"\n",
    "\n",
    "values2 = values[values.imag>0].imag\n"
   ]
  },
  {
   "cell_type": "code",
   "execution_count": null,
   "metadata": {},
   "outputs": [],
   "source": [
    "plt.hist(values2, 50);#or valuesUP\n",
    "# essayer de comparer avec une loi gamma ou de Rayleigh"
   ]
  },
  {
   "cell_type": "markdown",
   "metadata": {},
   "source": [
    "#### Does this distribution converge to a half gaussian ? and at what speed if it does ?"
   ]
  },
  {
   "cell_type": "code",
   "execution_count": null,
   "metadata": {},
   "outputs": [],
   "source": [
    "#W = 64\n",
    "#N = 100\n",
    "def ginOE_eigen(W,N):\n",
    "    mu = 0.0\n",
    "    sigma = 1.0/np.sqrt(1*N)\n",
    "    eigenvalues=[]\n",
    "    for _ in range(N):\n",
    "        M = obtainGinibreEig(W,mu,sigma)\n",
    "        eigenvalues.append(M)\n",
    "    values = np.append([], eigenvalues)\n",
    "    return values\n",
    "    \n",
    "fig, axs = plt.subplots(2, 2)\n",
    "params = [(16,200),(64,200),(128,200),(256,200)]\n",
    "for i in range(2):\n",
    "    for j in range(2):\n",
    "        W,N = params[i*2+j]\n",
    "        eig = ginOE_eigen(W,N)\n",
    "        values = eig[eig.imag>0].imag\n",
    "        axs[i,j].hist(values, 100); #TODO: \"normalize\" so that we can compare correctly\n",
    "        axs[i,j].set_title(\"Width:\"+str(W))\n"
   ]
  },
  {
   "cell_type": "code",
   "execution_count": null,
   "metadata": {},
   "outputs": [],
   "source": [
    "bins = 50\n",
    "yUP, xUP = np.histogram(valuesUP, bins = bins)\n",
    "xUP = xUP[:-1]\n",
    "int = 0\n",
    "for  i in yUP:\n",
    "    int += i*np.max(xUP)/bins\n",
    "plt.plot(xUP,yUP/int)\n"
   ]
  },
  {
   "cell_type": "code",
   "execution_count": null,
   "metadata": {},
   "outputs": [],
   "source": [
    "def f(t, y):\n",
    "    σ = y[0]\n",
    "    dσ = y[1]\n",
    "    dy0 = dσ\n",
    "    dy1 = -2/t * np.sqrt(max((σ-t*dσ)*(t*dσ - σ + (dσ)**2), 0))\n",
    "    dy2 = σ/t\n",
    "    return np.array([dy0, dy1, dy2])\n",
    "\n",
    "t0 = 1e-15\n",
    "tf = 9\n"
   ]
  },
  {
   "cell_type": "code",
   "execution_count": null,
   "metadata": {},
   "outputs": [],
   "source": [
    "y0_0 = -t0/np.pi-(t0/np.pi)**2\n",
    "y0_1 = -1/np.pi-2*t0/np.pi\n",
    "y0_2 = -t0/np.pi-t0**2/(2*np.pi**2)\n",
    "y0 = np.array([y0_0, y0_1, y0_2])\n"
   ]
  },
  {
   "cell_type": "code",
   "execution_count": null,
   "metadata": {},
   "outputs": [],
   "source": [
    "sol = solve_ivp(f, (t0, tf) ,y0, max_step=.001)\n",
    "σ = sol.y[0][100:]\n",
    "dσ = sol.y[1][100:]\n",
    "I = sol.y[2][100:]\n",
    "t = sol.t[100:]\n",
    "x = t/np.pi\n",
    "\n",
    "E = np.exp(I)\n",
    "p = E/x**2 * (σ**2 + x*np.pi*dσ - σ)\n",
    "\n",
    "plt.hist(valuesUP, 50)\n",
    "plt.plot(x[100:], 950*p[100:], color = 'red')\n"
   ]
  },
  {
   "cell_type": "code",
   "execution_count": null,
   "metadata": {},
   "outputs": [],
   "source": [
    "plt.hist(values.real, 100)\n",
    "ecart = np.max(values.real) - np.min(values.real)\n",
    "#essayer de comparer avec une gaussienne ou une loi de wigner"
   ]
  },
  {
   "cell_type": "code",
   "execution_count": null,
   "metadata": {},
   "outputs": [],
   "source": [
    "### Histogramme des données\n",
    "bins = 100\n",
    "y, x = np.histogram(values.real, bins = bins)\n",
    "# Milieu de chaque classe\n",
    "x = (x + np.roll(x, -1))[:-1] / 2.0\n",
    "\n",
    "\n",
    "int = 0\n",
    "for i in range(bins):\n",
    "    int += y[i]*ecart/bins"
   ]
  },
  {
   "cell_type": "code",
   "execution_count": null,
   "metadata": {},
   "outputs": [],
   "source": [
    "dist_name = \"norm\"\n",
    "\n",
    "# Paramètres de la loi\n",
    "dist = getattr(scipy.stats, dist_name)\n",
    "\n",
    "# Modéliser la loi\n",
    "param = dist.fit(values.real)\n",
    "print(param)"
   ]
  },
  {
   "cell_type": "code",
   "execution_count": null,
   "metadata": {},
   "outputs": [],
   "source": [
    "loc = param[-2]\n",
    "scale = param[-1]\n",
    "arg = param[:-2]\n",
    "\n",
    "pdf = dist.pdf(x, loc=loc, scale=scale, *arg)\n",
    "\n",
    "plt.figure(figsize=(12,8))\n",
    "plt.plot(x, pdf, label=dist_name, linewidth=3) \n",
    "plt.plot(x, y/int, alpha=0.6)\n",
    "plt.xlim(-2,2)\n",
    "plt.legend()\n",
    "plt.show()"
   ]
  },
  {
   "cell_type": "code",
   "execution_count": null,
   "metadata": {},
   "outputs": [],
   "source": [
    "#demicercle ok sauf sur les bords, à comparer avec les GinUE\n",
    "R = 1\n",
    "def wigner(x):\n",
    "    if np.abs(x) < R:\n",
    "        return np.sqrt(R**2 - x**2)/(2*np.pi*R**2)\n",
    "    else: return(0)\n",
    "\n",
    "X = np.linspace(-1,1,1000)\n",
    "Y = [wigner(x)*4 for x in X]\n",
    "plt.plot(X,Y)\n",
    "plt.plot(x,y/int)"
   ]
  },
  {
   "cell_type": "code",
   "execution_count": null,
   "metadata": {},
   "outputs": [],
   "source": [
    "import numpy as np\n",
    "import numpy.random as rd\n",
    "import matplotlib.pyplot as plt\n",
    "\n",
    "print(\"Vizualization of Ginibre eigenvalues and Saturn effect\")\n",
    "gen = rd.default_rng()\n",
    "N = 64\n",
    "mu = 0.0\n",
    "sigma = 1.0/np.sqrt(2*N)\n",
    "\n",
    "def obtainGinibreEig(N,mu,sigma):\n",
    "    mat = gen.normal(mu,sigma, (N,N)) +gen.normal(mu,sigma,(N,N))*complex(0,1)\n",
    "    #print(mat)\n",
    "\n",
    "    eigenvalues, _= np.linalg.eig(mat)\n",
    "    #print(eigenvalues)\n",
    "\n",
    "\n",
    "    #plt.xlim(-1.0,1.0)\n",
    "    #plt.ylim(-1.0,1.0)\n",
    "    return eigenvalues\n",
    "\n",
    "eigenvalues = []\n",
    "for _ in range(1000):\n",
    "    eigenvalues.append(obtainGinibreEig(N,mu,sigma))\n",
    "    \n",
    "print(eigenvalues)\n",
    "values2 = np.append([], eigenvalues)\n",
    "print(values2)\n",
    "\n",
    "plt.gca().set_aspect('equal')\n",
    "plt.scatter(values2.real, values2.imag, s = 1,c=\"red\")\n",
    "plt.title(\"Eigenvalues of Ginibre matrix\")\n",
    "plt.show()\n"
   ]
  },
  {
   "cell_type": "code",
   "execution_count": null,
   "metadata": {},
   "outputs": [],
   "source": [
    "plt.hist(values2.real, 100)"
   ]
  },
  {
   "cell_type": "code",
   "execution_count": null,
   "metadata": {},
   "outputs": [],
   "source": [
    "bins = 100\n",
    "y, x = np.histogram(values2.real, bins = bins)\n",
    "# Milieu de chaque classe\n",
    "x = x[:-1]\n",
    "\n",
    "\n",
    "ecart = np.max(values2.real) - np.min(values2.real)\n",
    "int = 0\n",
    "for i in range(bins):\n",
    "    int += y[i]*ecart/bins"
   ]
  },
  {
   "cell_type": "code",
   "execution_count": null,
   "metadata": {},
   "outputs": [],
   "source": [
    "#demicercle ok sauf sur les bords, à comparer avec les GinUE\n",
    "R = 1\n",
    "def wigner(x):\n",
    "    if np.abs(x) < R:\n",
    "        return np.sqrt(R**2 - x**2)/(2*np.pi*R**2)\n",
    "    else: return(0)\n",
    "\n",
    "X = np.linspace(-1,1,1000)\n",
    "Y = [wigner(x)*4 for x in X]\n",
    "plt.plot(X,Y)\n",
    "plt.plot(x,y/int)"
   ]
  },
  {
   "cell_type": "code",
   "execution_count": null,
   "metadata": {},
   "outputs": [],
   "source": [
    "bins = 100\n",
    "y, x = np.histogram(values2.imag, bins = bins)\n",
    "# Milieu de chaque classe\n",
    "x = x[:-1]\n",
    "\n",
    "\n",
    "ecart = np.max(values2.real) - np.min(values2.real)\n",
    "int = 0\n",
    "for i in range(bins):\n",
    "    int += y[i]*ecart/bins"
   ]
  },
  {
   "cell_type": "code",
   "execution_count": null,
   "metadata": {},
   "outputs": [],
   "source": [
    "#demicercle ok sauf sur les bords, à comparer avec les GinUE\n",
    "R = 1\n",
    "def wigner(x):\n",
    "    if np.abs(x) < R:\n",
    "        return np.sqrt(R**2 - x**2)/(2*np.pi*R**2)\n",
    "    else: return(0)\n",
    "\n",
    "X = np.linspace(-1,1,1000)\n",
    "Y = [wigner(x)*4 for x in X]\n",
    "plt.plot(X,Y)\n",
    "plt.plot(x,y/int)"
   ]
  },
  {
   "cell_type": "code",
   "execution_count": null,
   "metadata": {},
   "outputs": [],
   "source": [
    "def rayleigh(x,sisquare):\n",
    "    return np.exp(-2*x**2/sisquare)*x/sisquare\n",
    "\n",
    "sisquare = 10\n",
    "Xr = np.linspace(0,10,1000)\n",
    "Yr = [rayleigh(x, sisquare)*4 for x in X]"
   ]
  },
  {
   "cell_type": "code",
   "execution_count": null,
   "metadata": {},
   "outputs": [],
   "source": [
    "bins = 50\n",
    "yUP, xUP = np.histogram(valuesUP, bins = bins)\n",
    "\n",
    "int = 0\n",
    "for  i in yUP:\n",
    "    int += i*np.max(xUP)/bins\n",
    "print(yUP)\n",
    "xUP = xUP[:-1]\n",
    "plt.plot(xUP,yUP/int)\n",
    "plt.plot(Xr,Yr)"
   ]
  },
  {
   "cell_type": "code",
   "execution_count": null,
   "metadata": {},
   "outputs": [],
   "source": [
    "import numpy as np\n",
    "import matplotlib.pyplot as plt\n",
    "from scipy.stats import norm\n",
    "\n",
    "# Données fournies\n",
    "x_values = np.array([3.58731079e-04, 2.46247676e-02, 4.88908040e-02, 7.31568405e-02,\n",
    "                     9.74228770e-02, 1.21688914e-01, 1.45954950e-01, 1.70220986e-01,\n",
    "                     1.94487023e-01, 2.18753059e-01, 2.43019096e-01, 2.67285132e-01,\n",
    "                     2.91551169e-01, 3.15817205e-01, 3.40083242e-01, 3.64349278e-01,\n",
    "                     3.88615315e-01, 4.12881351e-01, 4.37147388e-01, 4.61413424e-01,\n",
    "                     4.85679461e-01, 5.09945497e-01, 5.34211534e-01, 5.58477570e-01,\n",
    "                     5.82743607e-01, 6.07009643e-01, 6.31275680e-01, 6.55541716e-01,\n",
    "                     6.79807753e-01, 7.04073789e-01, 7.28339826e-01, 7.52605862e-01,\n",
    "                     7.76871899e-01, 8.01137935e-01, 8.25403972e-01, 8.49670008e-01,\n",
    "                     8.73936045e-01, 8.98202081e-01, 9.22468117e-01, 9.46734154e-01,\n",
    "                     9.71000190e-01, 9.95266227e-01, 1.01953226e+00, 1.04379830e+00,\n",
    "                     1.06806434e+00, 1.09233037e+00, 1.11659641e+00, 1.14086245e+00,\n",
    "                     1.16512848e+00, 1.18939452e+00])\n",
    "\n",
    "y_values = np.array([1950, 4687, 6288, 7350, 7908, 8314, 8522, 8829, 8829, 8865, 8820, 9129, 8944, 8778,\n",
    "                     9079, 8919, 8782, 8641, 8539, 8455, 8293, 8066, 7986, 8005, 7790, 7487, 7414, 7090,\n",
    "                     7045, 6578, 6525, 6000, 5817, 5528, 5119, 4474, 4128, 3477, 2924, 2206, 1671, 1091,\n",
    "                     675, 324, 185, 84, 29, 12, 6, 2])\n",
    "\n",
    "# Lissage avec un noyau gaussien\n",
    "def kernel_smooth(x, y, bandwidth=0.02):\n",
    "    x_smooth = np.linspace(x.min(), x.max(), 1000)\n",
    "    y_smooth = np.zeros_like(x_smooth)\n",
    "    for xi, yi in zip(x, y):\n",
    "        y_smooth += norm.pdf(x_smooth, xi, bandwidth) * yi\n",
    "    return x_smooth, y_smooth\n",
    "\n",
    "# Paramètre de bande passante\n",
    "bandwidth = 0.02\n",
    "\n",
    "# Application du lissage\n",
    "x_smooth, y_smooth = kernel_smooth(x_values, y_values, bandwidth)\n",
    "\n",
    "# Tracé des résultats\n",
    "plt.plot(x_values, y_values, 'ro', label='Données originales')\n",
    "plt.plot(x_smooth, y_smooth, 'b-', label=f'Lissage (bande passante = {bandwidth})')\n",
    "plt.xlabel('Valeurs en abscisse')\n",
    "plt.ylabel('Valeurs en ordonnée')\n",
    "plt.legend()\n",
    "plt.show()\n"
   ]
  },
  {
   "cell_type": "code",
   "execution_count": null,
   "metadata": {},
   "outputs": [],
   "source": [
    "import numpy as np\n",
    "import matplotlib.pyplot as plt\n",
    "from scipy.integrate import simps\n",
    "from scipy.stats import norm\n",
    "\n",
    "# Données fournies\n",
    "x_values = np.array([3.58731079e-04, 2.46247676e-02, 4.88908040e-02, 7.31568405e-02,\n",
    "                     9.74228770e-02, 1.21688914e-01, 1.45954950e-01, 1.70220986e-01,\n",
    "                     1.94487023e-01, 2.18753059e-01, 2.43019096e-01, 2.67285132e-01,\n",
    "                     2.91551169e-01, 3.15817205e-01, 3.40083242e-01, 3.64349278e-01,\n",
    "                     3.88615315e-01, 4.12881351e-01, 4.37147388e-01, 4.61413424e-01,\n",
    "                     4.85679461e-01, 5.09945497e-01, 5.34211534e-01, 5.58477570e-01,\n",
    "                     5.82743607e-01, 6.07009643e-01, 6.31275680e-01, 6.55541716e-01,\n",
    "                     6.79807753e-01, 7.04073789e-01, 7.28339826e-01, 7.52605862e-01,\n",
    "                     7.76871899e-01, 8.01137935e-01, 8.25403972e-01, 8.49670008e-01,\n",
    "                     8.73936045e-01, 8.98202081e-01, 9.22468117e-01, 9.46734154e-01,\n",
    "                     9.71000190e-01, 9.95266227e-01, 1.01953226e+00, 1.04379830e+00,\n",
    "                     1.06806434e+00, 1.09233037e+00, 1.11659641e+00, 1.14086245e+00,\n",
    "                     1.16512848e+00, 1.18939452e+00])\n",
    "\n",
    "y_values = np.array([1950, 4687, 6288, 7350, 7908, 8314, 8522, 8829, 8829, 8865, 8820, 9129, 8944, 8778,\n",
    "                     9079, 8919, 8782, 8641, 8539, 8455, 8293, 8066, 7986, 8005, 7790, 7487, 7414, 7090,\n",
    "                     7045, 6578, 6525, 6000, 5817, 5528, 5119, 4474, 4128, 3477, 2924, 2206, 1671, 1091,\n",
    "                     675, 324, 185, 84, 29, 12, 6, 2])\n",
    "\n",
    "# Lissage avec un noyau gaussien\n",
    "def kernel_smooth(x, y, bandwidth=0.02):\n",
    "    x_smooth = np.linspace(x.min(), x.max(), 1000)\n",
    "    y_smooth = np.zeros_like(x_smooth)\n",
    "    for xi, yi in zip(x, y):\n",
    "        y_smooth += norm.pdf(x_smooth, xi, bandwidth) * yi\n",
    "    return x_smooth, y_smooth\n",
    "\n",
    "# Paramètre de bande passante\n",
    "bandwidth = 0.02\n",
    "\n",
    "# Application du lissage\n",
    "x_smooth, y_smooth = kernel_smooth(x_values, y_values, bandwidth)\n",
    "\n",
    "# Calcul de l'intégrale numérique\n",
    "integral = simps(y_smooth, x_smooth)\n",
    "\n",
    "# Affichage des résultats\n",
    "plt.plot(x_smooth, y_smooth, 'b-', label=f'Lissage (bande passante = {bandwidth})')\n",
    "plt.xlabel('Valeurs en abscisse')\n",
    "plt.ylabel('Valeurs en ordonnée')\n",
    "plt.legend()\n",
    "plt.show()\n",
    "\n",
    "print(f\"L'intégrale numérique de la courbe lissée est : {integral}\")\n"
   ]
  }
 ],
 "metadata": {
  "kernelspec": {
   "display_name": "base",
   "language": "python",
   "name": "python3"
  },
  "language_info": {
   "codemirror_mode": {
    "name": "ipython",
    "version": 3
   },
   "file_extension": ".py",
   "mimetype": "text/x-python",
   "name": "python",
   "nbconvert_exporter": "python",
   "pygments_lexer": "ipython3",
   "version": "3.11.0"
  }
 },
 "nbformat": 4,
 "nbformat_minor": 2
}
